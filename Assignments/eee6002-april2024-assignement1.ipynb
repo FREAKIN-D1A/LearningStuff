{
 "cells": [
  {
   "cell_type": "markdown",
   "metadata": {},
   "source": [
    "# **EEE 6002 (April 2024) Assignment 1**\n",
    "\n",
    "---\n",
    "\n",
    "### **Student Information**\n",
    "- **Name**: Dewan Mohammad Asad\n",
    "- **Student ID**: 0424062323\n",
    "- **Course**: EEE 6002 - Special Topics in EEE (Quantum Computing and Quantum Photonics)\n",
    "- **Semester**: April 2024\n",
    "- **Instructor**: [Dr. Sajid Muhaimin Choudhury](https://sajid.buet.ac.bd/teaching)\n",
    "- **Assignment Number**: Midterm Assignment\n",
    "- **Grading Weight**: $10\\%$ of final grade\n",
    "\n",
    "---\n",
    "\n",
    "### **Submission Date**\n",
    "_[Enter the submission date here]_\n",
    "\n",
    "---\n",
    "\n",
    "## **Instructions**\n",
    "1. Fill in your information above before starting the assignment.\n",
    "2. Write your solutions in the code and Markdown cells provided.\n",
    "3. Ensure all code cells run without errors before submission.\n",
    "4. Include comments in your code to explain your implementation.\n",
    "5. Export the notebook as HTML, and from your web browser, print the HTML as PDF.\n",
    "6. Submit 042106xxxx-Assignment1.ipynb and  042106xxxx-Assignment1.pdf in the Teams Assignment 1\n",
    "\n",
    "---"
   ]
  },
  {
   "cell_type": "markdown",
   "metadata": {},
   "source": [
    "# **Assignment Problem**\n",
    "## Quantum Phase Estimation for Unique Eigenvalues\n",
    "\n",
    "### **Objective**\n",
    "Familiarize yourself with quantum phase estimation in Qiskit.\n",
    "\n",
    "---\n",
    "\n",
    "### **Problem Statement**\n",
    "1. Define a unitary operator $U$ based on the last three digits of your roll number $ r_1, r_2, r_3 $ (e.g., for roll number `0421062567`, $ r_1 = 5 ,  r_2 = 6 ,  r_3 = 7 $):\n",
    "   - Let $ \\theta = \\frac{r_1}{10} + \\frac{r_2}{100} + \\frac{r_3}{1000} $ radians.\n",
    "   - Define a unitary operator $ U = R_z(\\theta) $ (rotation around the Z-axis by $ \\theta $ radians).\n",
    "\n",
    "2. Set up a quantum circuit to perform **quantum phase estimation** on $U$, with:\n",
    "   - 3 qubits for the eigenvalue register (to store phase estimation results).\n",
    "   - 1 qubit for the state register (to apply $U$).\n",
    "\n",
    "3. Simulate the quantum phase estimation circuit in Qiskit and obtain the estimated phase.\n",
    "\n",
    "---\n",
    "\n",
    "### **Deliverables**\n",
    "- Completed codes for all cells.\n",
    "- Output of the circuit visualization.\n",
    "- Results showing the estimated phase.\n",
    "- Explanation of the connection between your roll number-based \\( \\theta \\) value and the phase estimation outcome.\n"
   ]
  },
  {
   "cell_type": "markdown",
   "metadata": {},
   "source": [
    "# SOLUTION\n",
    "For my roll number `0424062323`:\r\n",
    "   - $ r_1 = 3 $\r\n",
    "   - $ r_2 = 2 $\r\n",
    "   - $ r_3 = 3 $\r\n",
    "   - Therefore, $ \\theta = \\frac{3}{10} + \\frac{2}{100} + \\frac{3}{1000} = 0.323 $ radians."
   ]
  },
  {
   "cell_type": "code",
   "execution_count": 2,
   "metadata": {},
   "outputs": [
    {
     "ename": "ImportError",
     "evalue": "cannot import name 'execute' from 'qiskit' (D:\\CODING_STUFF\\quantum-computing\\Assignments\\myenv\\Lib\\site-packages\\qiskit\\__init__.py)",
     "output_type": "error",
     "traceback": [
      "\u001b[1;31m---------------------------------------------------------------------------\u001b[0m",
      "\u001b[1;31mImportError\u001b[0m                               Traceback (most recent call last)",
      "Cell \u001b[1;32mIn[2], line 1\u001b[0m\n\u001b[1;32m----> 1\u001b[0m \u001b[38;5;28;01mfrom\u001b[39;00m \u001b[38;5;21;01mqiskit\u001b[39;00m \u001b[38;5;28;01mimport\u001b[39;00m QuantumCircuit, execute\n\u001b[0;32m      2\u001b[0m \u001b[38;5;28;01mfrom\u001b[39;00m \u001b[38;5;21;01mqiskit_aer\u001b[39;00m \u001b[38;5;28;01mimport\u001b[39;00m Aer\n\u001b[0;32m      4\u001b[0m \u001b[38;5;28;01mfrom\u001b[39;00m \u001b[38;5;21;01mqiskit\u001b[39;00m\u001b[38;5;21;01m.\u001b[39;00m\u001b[38;5;21;01mcircuit\u001b[39;00m\u001b[38;5;21;01m.\u001b[39;00m\u001b[38;5;21;01mlibrary\u001b[39;00m \u001b[38;5;28;01mimport\u001b[39;00m QFT\n",
      "\u001b[1;31mImportError\u001b[0m: cannot import name 'execute' from 'qiskit' (D:\\CODING_STUFF\\quantum-computing\\Assignments\\myenv\\Lib\\site-packages\\qiskit\\__init__.py)"
     ]
    }
   ],
   "source": [
    "from qiskit import QuantumCircuit, execute\n",
    "from qiskit_aer import Aer\n",
    "\n",
    "from qiskit.circuit.library import QFT\n",
    "from qiskit.visualization import plot_histogram\n",
    "import numpy as np"
   ]
  },
  {
   "cell_type": "code",
   "execution_count": null,
   "metadata": {},
   "outputs": [],
   "source": [
    "# Define roll number parameters\n",
    "r1, r2, r3 = 3, 2, 3\n",
    "theta = r1 / 10 + r2 / 100 + r3 / 1000\n",
    "\n",
    "# Quantum Circuit Parameters\n",
    "num_qubits_eigenvalue = 3  # Eigenvalue register\n",
    "num_qubits_state = 1       # State register\n",
    "\n",
    "# Create Quantum Circuit\n",
    "qc = QuantumCircuit(num_qubits_eigenvalue + num_qubits_state, num_qubits_eigenvalue)\n",
    "\n",
    "# Step 1: Apply Hadamard to eigenvalue register\n",
    "for q in range(num_qubits_eigenvalue):\n",
    "    qc.h(q)\n",
    "\n",
    "# Step 2: Apply controlled-U gates\n",
    "for q in range(num_qubits_eigenvalue):\n",
    "    repetitions = 2**q\n",
    "    for _ in range(repetitions):\n",
    "        qc.cp(theta, q, num_qubits_eigenvalue)  # Controlled-Rz gate\n",
    "\n",
    "# Step 3: Apply the Inverse Quantum Fourier Transform\n",
    "qc.append(QFT(num_qubits_eigenvalue, do_swaps=False).inverse(), range(num_qubits_eigenvalue))\n",
    "\n",
    "# Step 4: Measure the eigenvalue register\n",
    "qc.measure(range(num_qubits_eigenvalue), range(num_qubits_eigenvalue))\n",
    "\n",
    "# Simulate the circuit\n",
    "simulator = Aer.get_backend('qasm_simulator')\n",
    "result = execute(qc, simulator, shots=1024).result()\n",
    "counts = result.get_counts()\n",
    "\n",
    "# Display results\n",
    "print(f\"Theta: {theta:.3f}\")\n",
    "plot_histogram(counts)"
   ]
  },
  {
   "cell_type": "code",
   "execution_count": null,
   "metadata": {},
   "outputs": [],
   "source": []
  },
  {
   "cell_type": "code",
   "execution_count": null,
   "metadata": {},
   "outputs": [],
   "source": []
  }
 ],
 "metadata": {
  "kernelspec": {
   "display_name": "Python 3 (ipykernel)",
   "language": "python",
   "name": "python3"
  },
  "language_info": {
   "codemirror_mode": {
    "name": "ipython",
    "version": 3
   },
   "file_extension": ".py",
   "mimetype": "text/x-python",
   "name": "python",
   "nbconvert_exporter": "python",
   "pygments_lexer": "ipython3",
   "version": "3.12.1"
  }
 },
 "nbformat": 4,
 "nbformat_minor": 4
}

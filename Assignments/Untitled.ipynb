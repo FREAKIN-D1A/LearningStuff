{
 "cells": [
  {
   "cell_type": "code",
   "execution_count": 1,
   "id": "14d0a6c5-d9e8-4d32-9166-a74f00fa5744",
   "metadata": {},
   "outputs": [
    {
     "name": "stdout",
     "output_type": "stream",
     "text": [
      "Requirement already satisfied: requests in d:\\python\\lib\\site-packages (2.31.0)\n",
      "Requirement already satisfied: charset-normalizer<4,>=2 in d:\\python\\lib\\site-packages (from requests) (3.3.2)\n",
      "Requirement already satisfied: idna<4,>=2.5 in d:\\python\\lib\\site-packages (from requests) (3.6)\n",
      "Requirement already satisfied: urllib3<3,>=1.21.1 in d:\\python\\lib\\site-packages (from requests) (2.2.0)\n",
      "Requirement already satisfied: certifi>=2017.4.17 in d:\\python\\lib\\site-packages (from requests) (2024.2.2)\n"
     ]
    }
   ],
   "source": [
    "! pip install requests"
   ]
  },
  {
   "cell_type": "code",
   "execution_count": 6,
   "id": "c2cc3154-261c-4f2b-99dd-1ab7b1638539",
   "metadata": {},
   "outputs": [
    {
     "name": "stdout",
     "output_type": "stream",
     "text": [
      "200\n",
      "{'id': 'ME8qQkdbbGKOmOf1whOqHAXfCsMPcCBkRHdi5NSNnSPARXSLkBpzvICCSBw4MIrQ', 'ttl': 1209600, 'created': '2024-11-24T13:48:07.823Z', 'userId': '670b36a6296522125e9518b2'}\n",
      "401\n",
      "{'error': {'statusCode': 401, 'name': 'AUTHORIZATION_REQUIRED', 'message': 'Authorization Required', 'code': 2407}}\n"
     ]
    }
   ],
   "source": [
    "import requests\n",
    "\n",
    "# Define the URL for the API endpoint\n",
    "url = \"https://auth.quantum-computing.ibm.com/api/users/loginWithToken\"\n",
    "\n",
    "# Define the payload with your API token\n",
    "payload = {\n",
    "    \"apiToken\": \"0269d7992397d34fa4514c08edc3e3dbb557a8616d1d3af782f6759c3472f7821942dce6da4b4162bf40a24506f16c21bc384a85fcb8b40e9faa185fed6a64ca\"\n",
    "}\n",
    "\n",
    "# Send a POST request to the URL with the payload\n",
    "response = requests.post(url, json=payload)\n",
    "\n",
    "# Print the response status code and JSON content\n",
    "print(response.status_code)\n",
    "print(response.json())\n",
    "\n",
    "# import requests\n",
    "\n",
    "# Define the URL for the API endpoint\n",
    "url = \"https://api-qcon.quantum-computing.ibm.com/api/Backends\"\n",
    "\n",
    "# Replace 'ACCESS-TOKEN' with your actual access token\n",
    "\n",
    "access_token = \"0269d7992397d34fa4514c08edc3e3dbb557a8616d1d3af782f6759c3472f7821942dce6da4b4162bf40a24506f16c21bc384a85fcb8b40e9faa185fed6a64ca\"\n",
    "headers = {\n",
    "    \"Authorization\": f\"Bearer {access_token}\",\n",
    "    \"x-qx-client-application\": \"qiskit-api-py\"  # Default client application\n",
    "}\n",
    "\n",
    "# Send a GET request to the URL\n",
    "response = requests.get(url, headers=headers)\n",
    "\n",
    "# Print the response status code and JSON content\n",
    "print(response.status_code)\n",
    "print(response.json())\n",
    "\n"
   ]
  },
  {
   "cell_type": "code",
   "execution_count": 5,
   "id": "6e60adac-4afa-4767-93ca-7be4ece82f4f",
   "metadata": {},
   "outputs": [
    {
     "name": "stdout",
     "output_type": "stream",
     "text": [
      "401\n",
      "{'error': {'statusCode': 401, 'name': 'AUTHORIZATION_REQUIRED', 'message': 'Authorization Required', 'code': 2407}}\n"
     ]
    }
   ],
   "source": [
    "import requests\n",
    "\n",
    "# Define the URL for the API endpoint\n",
    "url = \"https://api-qcon.quantum-computing.ibm.com/api/Backends\"\n",
    "\n",
    "# Replace 'ACCESS-TOKEN' with your actual access token\n",
    "\n",
    "access_token = \"0269d7992397d34fa4514c08edc3e3dbb557a8616d1d3af782f6759c3472f7821942dce6da4b4162bf40a24506f16c21bc384a85fcb8b40e9faa185fed6a64ca\"\n",
    "headers = {\n",
    "    \"Authorization\": f\"Bearer {access_token}\",\n",
    "    \"x-qx-client-application\": \"qiskit-api-py\"  # Default client application\n",
    "}\n",
    "\n",
    "# Send a GET request to the URL\n",
    "response = requests.get(url, headers=headers)\n",
    "\n",
    "# Print the response status code and JSON content\n",
    "print(response.status_code)\n",
    "print(response.json())\n"
   ]
  }
 ],
 "metadata": {
  "kernelspec": {
   "display_name": "Python 3 (ipykernel)",
   "language": "python",
   "name": "python3"
  },
  "language_info": {
   "codemirror_mode": {
    "name": "ipython",
    "version": 3
   },
   "file_extension": ".py",
   "mimetype": "text/x-python",
   "name": "python",
   "nbconvert_exporter": "python",
   "pygments_lexer": "ipython3",
   "version": "3.12.1"
  }
 },
 "nbformat": 4,
 "nbformat_minor": 5
}

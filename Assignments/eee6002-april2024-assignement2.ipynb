{
 "cells": [
  {
   "cell_type": "markdown",
   "metadata": {},
   "source": [
    "# **EEE 6002 (April 2024) Assignment 2**\n",
    "\n",
    "---\n",
    "\n",
    "### **Student Information**\n",
    "- **Name**: _[Enter your full name here]_\n",
    "- **Student ID**: _[Enter your student ID here]_\n",
    "- **Course**: EEE 6002 - Special Topics in EEE (Quantum Computing and Quantum Photonics)\n",
    "- **Semester**: April 2024\n",
    "- **Instructor**: [Dr. Sajid Muhaimin Choudhury](https://sajid.buet.ac.bd/teaching)\n",
    "- **Assignment Number**: Midterm Assignment\n",
    "- **Grading Weight**: $15\\%$ of final grade\n",
    "\n",
    "---\n",
    "\n",
    "### **Submission Date**\n",
    "_[Enter the submission date here]_\n",
    "\n",
    "---\n",
    "\n",
    "## **Instructions**\n",
    "1. Fill in your information above before starting the assignment.\n",
    "2. Write your solutions in the code and Markdown cells provided.\n",
    "3. Ensure all code cells run without errors before submission.\n",
    "4. Include comments in your code to explain your implementation.\n",
    "5. Export the notebook as HTML, and from your web browser, print the HTML as PDF.\n",
    "6. Submit 042106xxxx-Assignment2.ipynb and  042106xxxx-Assignment2.pdf in the Teams Assignment 1\n",
    "---"
   ]
  },
  {
   "cell_type": "markdown",
   "metadata": {},
   "source": [
    "# **Assignment Problem**\n",
    "## Simulating a Quantum Circuit with Random Gates\n",
    "\n",
    "### **Objective**\n",
    "Understand how to construct and simulate a quantum circuit in Qiskit.\n",
    "---\n",
    "\n",
    "### **Problem Statement**\n",
    "\n",
    "Let $n$ be the sum of last three digits of your roll numberd, modded by 8.\n",
    "\n",
    "1. Create a quantum circuit with $n$ qubits.\n",
    "2. Apply a random sequence of quantum gates to each qubit in your circuit. Choose the gate sequence as follows:\n",
    "   - The first qubit should apply $n$ instances of the Pauli-X gate.\n",
    "   - The second qubit should apply $n - 1$ instances of the Hadamard gate.\n",
    "   - The third qubit should apply $24 - n - 2$ instances of the Pauli-Z gate.\n",
    "   - Continue this pattern until you cover all $n$ qubits or you run out of unique gate sequences.\n",
    "\n",
    "3. Measure all qubits and simulate the circuit.\n",
    "\n",
    "---\n",
    "\n",
    "### **Deliverables**\n",
    "- Completed codes for all cells.\n",
    "- Output of the circuit visualization.\n",
    "- Simulation results (counts of measurement outcomes)."
   ]
  },
  {
   "cell_type": "markdown",
   "metadata": {},
   "source": [
    "## Solution\n",
    "_Add details or texts in here_"
   ]
  },
  {
   "cell_type": "code",
   "execution_count": null,
   "metadata": {},
   "outputs": [],
   "source": [
    "#Your code goes here: add multiple code segment and additional markdown cells as seened"
   ]
  }
 ],
 "metadata": {
  "kernelspec": {
   "display_name": "QCW",
   "language": "python",
   "name": "python3"
  },
  "language_info": {
   "name": "python",
   "version": "3.13.0"
  }
 },
 "nbformat": 4,
 "nbformat_minor": 2
}

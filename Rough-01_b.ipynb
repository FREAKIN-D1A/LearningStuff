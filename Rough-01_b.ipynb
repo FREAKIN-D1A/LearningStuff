{
 "cells": [
  {
   "cell_type": "code",
   "execution_count": 7,
   "metadata": {},
   "outputs": [],
   "source": [
    "from qiskit import QuantumCircuit\n",
    " \n",
    "def get_qc_for_n_qubit_GHZ_state(n: int) -> QuantumCircuit:\n",
    "    \"\"\"This function will create a qiskit.QuantumCircuit (qc) for an n-qubit GHZ state.\n",
    " \n",
    "    Args:\n",
    "        n (int): Number of qubits in the n-qubit GHZ state\n",
    " \n",
    "    Returns:\n",
    "        QuantumCircuit: Quantum circuit that generate the n-qubit GHZ state, assuming all qubits start in the 0 state\n",
    "    \"\"\"\n",
    "    if isinstance(n, int) and n >= 2:\n",
    "        qc = QuantumCircuit(n)\n",
    "        qc.h(0)\n",
    "        for i in range(n - 1):\n",
    "            qc.cx(i, i + 1)\n",
    "    else:\n",
    "        raise Exception(\"n is not a valid input\")\n",
    "    return qc\n",
    " \n",
    " \n",
    "# Create a new circuit with two qubits (first argument) and two classical\n",
    "# bits (second argument)\n",
    "n = 10\n",
    "qc = get_qc_for_n_qubit_GHZ_state(n)"
   ]
  },
  {
   "cell_type": "code",
   "execution_count": 8,
   "metadata": {},
   "outputs": [
    {
     "data": {
      "text/html": [
       "<pre style=\"word-wrap: normal;white-space: pre;background: #fff0;line-height: 1.1;font-family: &quot;Courier New&quot;,Courier,monospace\">     ┌───┐                                             \n",
       "q_0: ┤ H ├──■──────────────────────────────────────────\n",
       "     └───┘┌─┴─┐                                        \n",
       "q_1: ─────┤ X ├──■─────────────────────────────────────\n",
       "          └───┘┌─┴─┐                                   \n",
       "q_2: ──────────┤ X ├──■────────────────────────────────\n",
       "               └───┘┌─┴─┐                              \n",
       "q_3: ───────────────┤ X ├──■───────────────────────────\n",
       "                    └───┘┌─┴─┐                         \n",
       "q_4: ────────────────────┤ X ├──■──────────────────────\n",
       "                         └───┘┌─┴─┐                    \n",
       "q_5: ─────────────────────────┤ X ├──■─────────────────\n",
       "                              └───┘┌─┴─┐               \n",
       "q_6: ──────────────────────────────┤ X ├──■────────────\n",
       "                                   └───┘┌─┴─┐          \n",
       "q_7: ───────────────────────────────────┤ X ├──■───────\n",
       "                                        └───┘┌─┴─┐     \n",
       "q_8: ────────────────────────────────────────┤ X ├──■──\n",
       "                                             └───┘┌─┴─┐\n",
       "q_9: ─────────────────────────────────────────────┤ X ├\n",
       "                                                  └───┘</pre>"
      ],
      "text/plain": [
       "     ┌───┐                                             \n",
       "q_0: ┤ H ├──■──────────────────────────────────────────\n",
       "     └───┘┌─┴─┐                                        \n",
       "q_1: ─────┤ X ├──■─────────────────────────────────────\n",
       "          └───┘┌─┴─┐                                   \n",
       "q_2: ──────────┤ X ├──■────────────────────────────────\n",
       "               └───┘┌─┴─┐                              \n",
       "q_3: ───────────────┤ X ├──■───────────────────────────\n",
       "                    └───┘┌─┴─┐                         \n",
       "q_4: ────────────────────┤ X ├──■──────────────────────\n",
       "                         └───┘┌─┴─┐                    \n",
       "q_5: ─────────────────────────┤ X ├──■─────────────────\n",
       "                              └───┘┌─┴─┐               \n",
       "q_6: ──────────────────────────────┤ X ├──■────────────\n",
       "                                   └───┘┌─┴─┐          \n",
       "q_7: ───────────────────────────────────┤ X ├──■───────\n",
       "                                        └───┘┌─┴─┐     \n",
       "q_8: ────────────────────────────────────────┤ X ├──■──\n",
       "                                             └───┘┌─┴─┐\n",
       "q_9: ─────────────────────────────────────────────┤ X ├\n",
       "                                                  └───┘"
      ]
     },
     "execution_count": 8,
     "metadata": {},
     "output_type": "execute_result"
    }
   ],
   "source": [
    "qc.draw()"
   ]
  },
  {
   "cell_type": "code",
   "execution_count": 9,
   "metadata": {},
   "outputs": [
    {
     "name": "stdout",
     "output_type": "stream",
     "text": [
      "['ZZIIIIIIII', 'ZIZIIIIIII', 'ZIIZIIIIII', 'ZIIIZIIIII', 'ZIIIIZIIII', 'ZIIIIIZIII', 'ZIIIIIIZII', 'ZIIIIIIIZI', 'ZIIIIIIIIZ']\n",
      "9\n"
     ]
    }
   ],
   "source": [
    "from qiskit.quantum_info import SparsePauliOp\n",
    "\n",
    "# ZZII...II, ZIZI...II, ... , ZIII...IZ\n",
    "operator_strings = [\n",
    "    \"Z\" + \"I\" * i + \"Z\" + \"I\" * (n - 2 - i) for i in range(n - 1)\n",
    "]\n",
    "print(operator_strings)\n",
    "print(len(operator_strings))\n",
    " \n",
    "operators = [SparsePauliOp(operator) for operator in operator_strings]"
   ]
  },
  {
   "cell_type": "code",
   "execution_count": 10,
   "metadata": {},
   "outputs": [],
   "source": [
    "from qiskit.transpiler.preset_passmanagers import generate_preset_pass_manager\n",
    "from qiskit_ibm_runtime import QiskitRuntimeService\n",
    " \n",
    "# If you did not previously save your credentials, use the following line instead:\n",
    "# service = QiskitRuntimeService(channel=\"ibm_quantum\", token=\"<MY_IBM_QUANTUM_TOKEN>\")\n",
    "service = QiskitRuntimeService()\n",
    " \n",
    "backend = service.least_busy(\n",
    "    simulator=False, operational=True, min_num_qubits=n\n",
    ")\n",
    "pm = generate_preset_pass_manager(optimization_level=1, backend=backend)\n",
    " \n",
    "isa_circuit = pm.run(qc)\n",
    "isa_operators_list = [op.apply_layout(isa_circuit.layout) for op in operators]"
   ]
  },
  {
   "cell_type": "code",
   "execution_count": 11,
   "metadata": {},
   "outputs": [],
   "source": [
    "from qiskit_ibm_runtime import EstimatorOptions\n",
    "from qiskit_ibm_runtime import EstimatorV2 as Estimator\n",
    " \n",
    "options = EstimatorOptions()\n",
    "options.resilience_level = 1\n",
    "options.dynamical_decoupling.enable = True\n",
    "options.dynamical_decoupling.sequence_type = \"XY4\"\n",
    " \n",
    "# Create an Estimator object\n",
    "estimator = Estimator(backend, options=options)"
   ]
  },
  {
   "cell_type": "code",
   "execution_count": 12,
   "metadata": {},
   "outputs": [
    {
     "name": "stdout",
     "output_type": "stream",
     "text": [
      "cx1mkneztp30008etwzg\n"
     ]
    }
   ],
   "source": [
    "# Submit the circuit to Estimator\n",
    "job = estimator.run([(isa_circuit, isa_operators_list)])\n",
    "job_id = job.job_id()\n",
    "print(job_id)"
   ]
  },
  {
   "cell_type": "code",
   "execution_count": 13,
   "metadata": {},
   "outputs": [
    {
     "data": {
      "image/png": "[encoded data removed]",
      "text/plain": [
       "<Figure size 640x480 with 1 Axes>"
      ]
     },
     "metadata": {},
     "output_type": "display_data"
    }
   ],
   "source": [
    "import matplotlib.pyplot as plt\n",
    "from qiskit_ibm_runtime import QiskitRuntimeService\n",
    " \n",
    "# data\n",
    "data = list(range(1, len(operators) + 1))  # Distance between the Z operators\n",
    "result = job.result()[0]\n",
    "values = result.data.evs  # Expectation value at each Z operator.\n",
    "values = [\n",
    "    v / values[0] for v in values\n",
    "]  # Normalize the expectation values to evaluate how they decay with distance.\n",
    " \n",
    "# plotting graph\n",
    "plt.plot(data, values, marker=\"o\", label=\"100-qubit GHZ state\")\n",
    "plt.xlabel(\"Distance between qubits $i$\")\n",
    "plt.ylabel(r\"$\\langle Z_i Z_0 \\rangle / \\langle Z_1 Z_0 \\rangle $\")\n",
    "plt.legend()\n",
    "plt.show()"
   ]
  },
  {
   "cell_type": "code",
   "execution_count": null,
   "metadata": {},
   "outputs": [],
   "source": []
  }
 ],
 "metadata": {
  "kernelspec": {
   "display_name": "Python 3",
   "language": "python",
   "name": "python3"
  },
  "language_info": {
   "codemirror_mode": {
    "name": "ipython",
    "version": 3
   },
   "file_extension": ".py",
   "mimetype": "text/x-python",
   "name": "python",
   "nbconvert_exporter": "python",
   "pygments_lexer": "ipython3",
   "version": "3.12.1"
  }
 },
 "nbformat": 4,
 "nbformat_minor": 2
}
